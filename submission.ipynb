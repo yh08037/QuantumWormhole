{
 "cells": [
  {
   "attachments": {},
   "cell_type": "markdown",
   "metadata": {},
   "source": [
    "# QuantumWormhole: QHack 2023 Open Hackathon\n",
    "\n",
    "## Project\n",
    "Implementing traversable wormhole dynamics on a quantum processor\n",
    "\n",
    "## Team\n",
    "Yellow Submarine: [Dohun Kim](https://github.com/yh08037), [Yuri Han](https://github.com/urihan)\n",
    "\n",
    "## Summary\n",
    "Implementing and reproducing the results of the paper [\"Traversable wormhole dynamics on a quantum processor\"](https://www.nature.com/articles/s41586-022-05424-3), Nov 2022.\n"
   ]
  },
  {
   "attachments": {},
   "cell_type": "markdown",
   "metadata": {},
   "source": [
    "## Introduction\n",
    "\n",
    "In Nov 2022, a paper on Traversable womrhole was published on Nature. This paper aimed to build a traversable wormhole on a quantum circuit using Sachdev-Ye-Kitaev (SYK) model on Majorana fermions. Our group decided to deep dive on this paper because it supports ER=EPR theory, meaning that it is a potential tool for the quantum gravity research. To explain briefly about ER=EPR conjecture, it states that a wormhole is same as two maximally entangled blackholes. Therefore, by building a quantum circuit  similar to the conjecture and running it on the quantum processor, we find that the paper had a solid contribution. \n",
    "\n",
    "Please refer to Matthew Weiss' [blog](https://heyredhat.github.io/index.html) on quantum wormhole. \n",
    "\n",
    "<!-- ![Quantum Gravity](images/quantum_gravity.jpeg)  -->\n",
    "\n",
    "## Wormhole and a quantum circuit \n",
    "To reproduce the work, our group had to first understand the connection between a quantum circuit and a traversable wormhole.\n",
    "\n",
    "![Traversable wormhole in spacetime and in the holographic dual](images/wormhole_circuit.jpeg) \n",
    "\n",
    "\n",
    "From the conjecture, we now know that we have two wormholes where we can send in a message. To have a traversable wormhole where the information is kept, we first need to send the information at -t_0. Then by having a negative energy, the information survives from falling in to a singularity and return it at t1. \n",
    "\n",
    "<!-- The above is a spacetime diagram of the situation. We have our left half and our right half and they're entangled in the TFD state. We're imagining things traveling at the speed of light, which here is a path at 45 degrees. We act with our operator 𝑂 in the past (\"message inserted\") on the left black hole. It goes off, passes the left event horizon (from which there is no return, as the pull of gravity is so strong not even light can escape) and continues on until it hits the \"singularity\" and then it's lights out. This is just like the case we've been considering where because we're using a finite temperature TFD state or because we're swapping a message state in instead of acting with an operator--or both! In any case, there's an obstruction and so our business on the left can't go through the tube and come out on the right. -->\n",
    "\n",
    "\n",
    "\n",
    "### Circuit Decomposition\n",
    "\n",
    "To build the circuit as shown in figure c, we follow several steps: \n",
    "1. building a Thermofield Double (TFD) state \n",
    "2. SWAP gate \n",
    "3. Scrambling and perfect size winding \n",
    "4. Coupling \n",
    "\n",
    "Here, it is important to note that we have to read the circuit from the bottom to top.\n",
    "\n",
    "#### TFD State \n",
    "\n",
    "$$ |TFD\\rangle  = \\frac{1}{tr(e^{\\beta})} \\sum_{j}^{} e^{\\frac{-1}{2} \\beta E_j} |E_j\\rangle |E_j\\rangle $$ \n",
    "\n",
    "We want to use TFD state for the circuit preparation. From the equation, TFD state depends on $\\beta$ and $\\beta = 1/T$. When the temperature is low, the wormhole traversable is possible; however, it is not when the temperature is high instead causes time inversion. According to Matthew Weiss' blog, when $\\beta = 0, |TFD\\rangle = |\\cup \\rangle$. When the $|\\cup \\rangle$ is a maximally entangled state at a infinite temperature, which is a quantum teleportation, a non-gravitational teleportation, time inversion occurs. Therefore, this TFD State has a weak coupling leading to a traversable wormhole. \n",
    "\n",
    "#### SWAP Gate \n",
    "<!-- - need to define a left and right wormhole  -->\n",
    "As mentioned, we need to have a message to go through a wormhole. In a circuit, this message would be a single qubit. By swapping this message encoded qubit with a qubit inside a left wormhole, our input qubit is ready to traverse through the wormhole. \n",
    "\n",
    "#### Scramble and Perfect Size Winding \n",
    "After the qubit is inserted to the wormhole, it is going to be mixed with different. \n",
    "\n",
    "#### Coupling \n",
    "\n",
    "\n"
   ]
  },
  {
   "cell_type": "code",
   "execution_count": null,
   "metadata": {},
   "outputs": [],
   "source": []
  },
  {
   "cell_type": "markdown",
   "metadata": {},
   "source": []
  },
  {
   "attachments": {},
   "cell_type": "markdown",
   "metadata": {},
   "source": [
    "### Majorana Fermion"
   ]
  },
  {
   "attachments": {},
   "cell_type": "markdown",
   "metadata": {},
   "source": [
    "### SYK Hamiltonian\n",
    "\n",
    "Sachdev–Ye–Kitaev (SYK) model, or SYK Hamiltonian is a system that is holographically dual to gravity. Successful teleportation is described from the dual gravity perspective as a particle traveling through a traversable wormhole. It is a sum of $q$ way interactions between Majorana fermions $\\psi^j$, and the coefficients $J_j$ follows Gaussian distribution. \n",
    "\n",
    "![syk](images/fig_syk_hamiltonian.png)\n",
    "\n",
    "However, experimentally implementing a full SYK model is extremely challenging. Therefore, the authors applied the machine learning approach to reduce the size of SYK Hamiltonian while preserving the gravitational physics. As a result, authors obtained a sparsified SYK Hamiltonian which has only five terms."
   ]
  },
  {
   "cell_type": "markdown",
   "metadata": {},
   "source": []
  }
 ],
 "metadata": {
  "kernelspec": {
   "display_name": "Python 3",
   "language": "python",
   "name": "python3"
  },
  "language_info": {
   "name": "python",
   "version": "3.10.8"
  },
  "orig_nbformat": 4,
  "vscode": {
   "interpreter": {
    "hash": "aee8b7b246df8f9039afb4144a1f6fd8d2ca17a180786b69acc140d282b71a49"
   }
  }
 },
 "nbformat": 4,
 "nbformat_minor": 2
}
