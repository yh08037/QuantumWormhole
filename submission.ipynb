{
 "cells": [
  {
   "attachments": {},
   "cell_type": "markdown",
   "metadata": {},
   "source": [
    "# QuantumWormhole: QHack 2023 Open Hackathon\n",
    "\n",
    "## Project\n",
    "Implementing traversable wormhole dynamics on a quantum processor\n",
    "\n",
    "## Team\n",
    "Yellow Submarine: [Dohun Kim](https://github.com/yh08037), [Yuri Han](https://github.com/urihan)\n",
    "\n",
    "## Summary\n",
    "Implement and reproduce the results of the paper [\"Traversable wormhole dynamics on a quantum processor\"](https://www.nature.com/articles/s41586-022-05424-3), Nov 2022\n"
   ]
  },
  {
   "attachments": {},
   "cell_type": "markdown",
   "metadata": {},
   "source": [
    "## Index"
   ]
  }
 ],
 "metadata": {
  "kernelspec": {
   "display_name": "tinyml",
   "language": "python",
   "name": "python3"
  },
  "language_info": {
   "name": "python",
   "version": "3.10.4"
  },
  "orig_nbformat": 4,
  "vscode": {
   "interpreter": {
    "hash": "576e6b0f6762a2d2f6bbc3685b610163626362bd817efaf169e9af213923ef8f"
   }
  }
 },
 "nbformat": 4,
 "nbformat_minor": 2
}
