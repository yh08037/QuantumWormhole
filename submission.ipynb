{
 "cells": [
  {
   "attachments": {},
   "cell_type": "markdown",
   "metadata": {},
   "source": [
    "# QuantumWormhole: QHack 2023 Open Hackathon\n",
    "\n",
    "## Project\n",
    "Implementing traversable wormhole dynamics on a quantum processor\n",
    "\n",
    "## Team\n",
    "Yellow Submarine: [Dohun Kim](https://github.com/yh08037), [Yuri Han](https://github.com/urihan)\n",
    "\n",
    "## Summary\n",
    "Implementing and reproducing the results of the paper [\"Traversable wormhole dynamics on a quantum processor\"](https://www.nature.com/articles/s41586-022-05424-3), Nov 2022.\n"
   ]
  },
  {
   "attachments": {},
   "cell_type": "markdown",
   "metadata": {},
   "source": [
    "## Introduction\n",
    "\n",
    "In Nov 2022, a paper on Traversable womrhole was published on Nature. This paper aimed to build a traversable wormhole on a quantum circuit using Sachdev-Ye-Kitaev (SYK) model on Majorana fermions. Our group decided to deep dive on this paper because it supports ER=EPR theory, meaning that it is a potential tool for the quantum gravity research. To explain briefly about ER=EPR conjecture, it states that a wormhole is same as two maximally entangled blackholes. Therefore, by building a quantum circuit  similar to the conjecture and running it on the quantum processor, we find that the paper had a solid contribution. \n",
    "\n",
    "Please refer to Matthew Weiss' [blog](https://heyredhat.github.io/index.html) on quantum wormhole. \n",
    "\n",
    "<!-- ![Quantum Gravity](images/quantum_gravity.jpeg)  -->"
   ]
  },
  {
   "attachments": {},
   "cell_type": "markdown",
   "metadata": {},
   "source": [
    "## Wormhole and a quantum circuit \n",
    "To reproduce the work, our group had to first understand the connection between a quantum circuit and a traversable wormhole.\n",
    "\n",
    "<p align=\"center\">\n",
    "<img src=\"images/wormhole_circuit.jpeg\" alt = \"image\" width = \"800\" height = \"250\" title = \"Nature\">\n",
    "</p>\n",
    "\n",
    "\n",
    "From the conjecture, we now know that we have two wormholes where we can send in a message. To have a traversable wormhole where the information is kept, we first need to send the information at -t_0. Then by having a negative energy, the information survives from falling in to a singularity and return it at t1. \n",
    "\n",
    "<!-- The above is a spacetime diagram of the situation. We have our left half and our right half and they're entangled in the TFD state. We're imagining things traveling at the speed of light, which here is a path at 45 degrees. We act with our operator 𝑂 in the past (\"message inserted\") on the left black hole. It goes off, passes the left event horizon (from which there is no return, as the pull of gravity is so strong not even light can escape) and continues on until it hits the \"singularity\" and then it's lights out. This is just like the case we've been considering where because we're using a finite temperature TFD state or because we're swapping a message state in instead of acting with an operator--or both! In any case, there's an obstruction and so our business on the left can't go through the tube and come out on the right. -->"
   ]
  },
  {
   "attachments": {},
   "cell_type": "markdown",
   "metadata": {},
   "source": [
    "### Circuit Decomposition\n",
    "\n",
    "<p align=\"center\">\n",
    "<img src=\"images/Scrambling.jpeg\" alt = \"image\" width = \"450\" height = \"450\" title = \"Scramble Image\">\n",
    "</p>\n",
    "\n",
    "To build the circuit as shown in figure c, we follow several steps: \n",
    "1. building a Thermofield Double (TFD) state \n",
    "2. SWAP gate \n",
    "3. Scrambling and perfect size winding \n",
    "4. Coupling \n",
    "\n",
    "Here, it is important to note that we have to read the circuit from the bottom to top. Also we want to ignore the SWAP gate on the right end as mentioned in the Nature paper.\n"
   ]
  },
  {
   "cell_type": "markdown",
   "metadata": {},
   "source": []
  },
  {
   "attachments": {},
   "cell_type": "markdown",
   "metadata": {},
   "source": [
    "#### TFD State \n",
    "\n",
    "$$ |TFD\\rangle  = \\frac{1}{tr(e^{\\beta})} \\sum_{j}^{} e^{\\frac{-1}{2} \\beta E_j} |\\overline{E_j}\\rangle |E_j\\rangle $$ \n",
    "\n",
    "\n",
    "We want to use TFD state for the circuit preparation. From the equation, TFD state depends on $\\beta$ and $\\beta = 1/T$. When the temperature is low, the wormhole traversable is possible; however, it is not when the temperature is high instead causes time inversion. According to Matthew Weiss' blog, when $\\beta = 0, |TFD\\rangle = |\\cup \\rangle$. When the $|\\cup \\rangle$ is a maximally entangled state at a infinite temperature, which is a quantum teleportation, a non-gravitational teleportation, time inversion occurs. Therefore, this TFD State has a weak coupling leading to a traversable wormhole. "
   ]
  },
  {
   "attachments": {},
   "cell_type": "markdown",
   "metadata": {},
   "source": [
    "#### SYK Hamiltonian\n",
    "\n",
    "Sachdev–Ye–Kitaev (SYK) model, or SYK Hamiltonian is a system that is holographically dual to gravity. Successful teleportation is described from the dual gravity perspective as a particle traveling through a traversable wormhole. It is a sum of $q$ way interactions between Majorana fermions $\\psi^j$, and the coefficients $J_j$ follows Gaussian distribution. \n",
    "\n",
    "![syk](images/fig_syk_hamiltonian.png)\n",
    "\n",
    "However, experimentally implementing a full SYK model is extremely challenging. Therefore, the authors applied the machine learning approach to reduce the size of SYK Hamiltonian while preserving the gravitational physics. As a result, authors obtained a sparsified SYK Hamiltonian which has only five terms. The authors claim that the learned Hamiltonian reproduces gravitational dynamics of the SYK model."
   ]
  },
  {
   "attachments": {},
   "cell_type": "markdown",
   "metadata": {},
   "source": [
    "### Majorana Fermions\n",
    "\n",
    "In the previous section, authors reduced the $N=10$ dense SYK model to $N=7$ sparsified SYK model. To encode 7 Majorana fermions for the left black hole and 7 Majorana fermions for the right black hole, we require 7 qubits (two fermions per qubit). The authors decided to use standard Jordan-Wigner transformation to encode the Majorana fermions in the Hamiltonian. To make the decomposition of Majorana swap gates efficient, $\\psi_L^1=ZX$, $\\psi_L^2=ZY$, $\\psi_R^1=X$, $\\psi_R^2=Y$ are particularly chosen. The remaining transformations are chosen to satisfy $\\psi_R^i\\psi_L^j=\\frac{i}{2}Z$ for shallow Trotterization of the coupling term $e^{i\\mu V}$.\n",
    "\n",
    "![majorana](images/fig_majorana.png)\n"
   ]
  },
  {
   "attachments": {},
   "cell_type": "markdown",
   "metadata": {},
   "source": [
    "### Dirac Fermions & SWAP gate\n",
    "\n",
    "To swap a qubit into or out of the wormhole, authors paired up Majorana fermions on a single qubit into a Dirac fermion \n",
    "$$\\chi_{L, R}=\\frac{1}{\\sqrt{2}}\\left( \\psi_{L, R}^1 + i \\psi_{L, R}^2 \\right) \\\\ \\Rightarrow \\chi_L=\\frac{1}{2}(ZX+iZY), \\ \\chi_R=\\frac{1}{2}(X+iY).$$\n",
    "The swap gate is then given by\n",
    "$$ \\mathrm{SWAP} = \\begin{bmatrix} \n",
    "\\chi\\chi^\\dagger & \\chi  \\\\ \n",
    "\\chi & \\chi^\\dagger\\chi\n",
    "\\end{bmatrix} $$\n",
    "thus,\n",
    "$$ \\mathrm{SWAP}_{X+iY} = \\begin{bmatrix} \n",
    "1 & 0 & 0 & 0 \\\\ \n",
    "0 & 0 & 1 & 0 \\\\ \n",
    "0 & 1 & 0 & 0 \\\\ \n",
    "0 & 0 & 0 & 1 \n",
    "\\end{bmatrix}, \\quad \\mathrm{SWAP}_{ZX+iZY} = \\begin{bmatrix}\n",
    "1 & 0 & 0 & 0 & 0 & 0 & 0 & 0 \\\\\n",
    "0 & 0 & 1 & 0 & 0 & 0 & 0 & 0 \\\\\n",
    "0 & 1 & 0 & 0 & 0 & 0 & 0 & 0 \\\\\n",
    "0 & 0 & 0 & 1 & 0 & 0 & 0 & 0 \\\\\n",
    "0 & 0 & 0 & 0 & 1 & 0 & 0 & 0 \\\\\n",
    "0 & 0 & 0 & 0 & 0 & 0 & -1 & 0 \\\\\n",
    "0 & 0 & 0 & 0 & 0 & -1 & 0 & 0 \\\\\n",
    "0 & 0 & 0 & 0 & 0 & 0 & 0 & 1 \\\\\n",
    "\\end{bmatrix}. $$ \n",
    "Since the $\\mathrm{SWAP}_{X+iY}$ coincides with the standard swap gate, the final swap in the protocol from R to T (Fig. 1c of the paper) is replaced by direct measurement of the rightmost qubit of R to reduce gate count."
   ]
  },
  {
   "attachments": {},
   "cell_type": "markdown",
   "metadata": {},
   "source": [
    "### Actual Codes"
   ]
  },
  {
   "cell_type": "code",
   "execution_count": 1,
   "metadata": {},
   "outputs": [],
   "source": [
    "import pennylane as qml\n",
    "\n",
    "worm_wires = list(range(7))\n",
    "msg_wires = [7, 8]\n",
    "\n",
    "wires = msg_wires + worm_wires\n",
    "dev = qml.device('default.qubit', wires=len(wires), shots=None)"
   ]
  },
  {
   "cell_type": "code",
   "execution_count": 2,
   "metadata": {},
   "outputs": [],
   "source": [
    "# Jordan-Wigner Transformation for Majorana Fermions\n",
    "psi_map = {\n",
    "    'L1': 'ZXIIIII',\n",
    "    'L2': 'ZYIIIII',\n",
    "    'L3': 'ZZZZZXI',\n",
    "    'L4': 'ZZXIIII',\n",
    "    'L5': 'ZZZZXII',\n",
    "    'L6': 'ZZZXIII',\n",
    "    'L7': 'ZZZZZZX',\n",
    "    'R1': 'XIIIIII',\n",
    "    'R2': 'YIIIIII',\n",
    "    'R3': 'ZZZZZYI',\n",
    "    'R4': 'ZZYIIII',\n",
    "    'R5': 'ZZZZYII',\n",
    "    'R6': 'ZZZYIII',\n",
    "    'R7': 'ZZZZZZY'    \n",
    "}\n",
    "\n",
    "# q=4 Majorana basis for left system\n",
    "basis_L = [\n",
    "    ('L1', 'L2', 'L4', 'L5'), \n",
    "    ('L1', 'L3', 'L4', 'L7'), \n",
    "    ('L1', 'L3', 'L5', 'L6'), \n",
    "    ('L2', 'L3', 'L4', 'L6'), \n",
    "    ('L2', 'L3', 'L5', 'L7')\n",
    "]\n",
    "\n",
    "# q=4 Majorana basis for right system\n",
    "basis_R = [\n",
    "    ('R1', 'R2', 'R4', 'R5'), \n",
    "    ('R1', 'R3', 'R4', 'R7'), \n",
    "    ('R1', 'R3', 'R5', 'R6'), \n",
    "    ('R2', 'R3', 'R4', 'R6'), \n",
    "    ('R2', 'R3', 'R5', 'R7'),\n",
    "]\n",
    "\n",
    "# Majorana basis for coupling term\n",
    "basis_V = [\n",
    "    ('L1', 'R1'),\n",
    "    ('L2', 'R2'),\n",
    "    ('L3', 'R3'),\n",
    "    ('L4', 'R4'),\n",
    "    ('L5', 'R5'),\n",
    "    ('L6', 'R6'),\n",
    "    ('L7', 'R7'),\n",
    "]\n",
    "\n",
    "# Coefficient of sparsified SYK Hamiltonian\n",
    "coeff = [-0.36, 0.19, -0.71, 0.22, 0.49]"
   ]
  },
  {
   "cell_type": "code",
   "execution_count": 3,
   "metadata": {},
   "outputs": [],
   "source": [
    "def pauli_word(word):\n",
    "    pw = qml.pauli.PauliWord({i: p for i, p in zip(worm_wires, word)})\n",
    "    return pw\n",
    "\n",
    "def mult_pauli_words(word_list, ignore_phase=False):\n",
    "    assert len(word_list) > 1\n",
    "    word, phase = pauli_word(word_list[0]), 1\n",
    "    for w in word_list[1:]:\n",
    "        word, new_phase = word * pauli_word(w)\n",
    "        if not ignore_phase:\n",
    "            phase = phase * new_phase\n",
    "    return word, phase\n",
    "\n",
    "def majorana_basis(psi, terms):\n",
    "    word_list_list = [[psi[key] for key in term] for term in terms]\n",
    "    basis_list = [mult_pauli_words(word_list) for word_list in word_list_list]\n",
    "    return basis_list\n",
    "\n",
    "def pauli_sentence(words, coeff, premult_i=False, mult=1.):\n",
    "    ps = qml.pauli.PauliSentence({\n",
    "        word: (1j*p if premult_i else p).real * c * mult\n",
    "        for (word, p), c in zip(words, coeff)\n",
    "    })\n",
    "    return ps"
   ]
  },
  {
   "cell_type": "code",
   "execution_count": 4,
   "metadata": {},
   "outputs": [],
   "source": [
    "m_L = majorana_basis(psi_map, basis_L)\n",
    "ps_L = pauli_sentence(m_L, coeff, mult=0.25)\n",
    "\n",
    "m_R = majorana_basis(psi_map, basis_R)\n",
    "ps_R = pauli_sentence(m_R, coeff, mult=0.25)\n",
    "\n",
    "m_V = majorana_basis(psi_map, basis_V)\n",
    "ps_iV = pauli_sentence(m_V, [1/28]*7, premult_i=True, mult=0.5)\n",
    "\n",
    "H_L = ps_L.hamiltonian(wire_order=worm_wires)\n",
    "H_R = ps_R.hamiltonian(wire_order=worm_wires)\n",
    "i_H_V = ps_iV.hamiltonian(wire_order=worm_wires)"
   ]
  },
  {
   "attachments": {},
   "cell_type": "markdown",
   "metadata": {},
   "source": [
    "#### TFD State \n",
    "\n",
    "$$ |TFD\\rangle  = \\frac{1}{tr(e^{\\beta})} \\sum_{j}^{} e^{\\frac{-1}{2} \\beta E_j} |\\overline{E_j}\\rangle |E_j\\rangle $$ \n",
    "\n",
    "\n",
    "We want to use TFD state for the circuit preparation. From the equation, TFD state depends on $\\beta$ and $\\beta = 1/T$. When the temperature is low, the wormhole traversable is possible; however, it is not when the temperature is high instead causes time inversion. According to Matthew Weiss' blog, when $\\beta = 0, |TFD\\rangle = |\\cup \\rangle$. When the $|\\cup \\rangle$ is a maximally entangled state at a infinite temperature, which is a quantum teleportation, a non-gravitational teleportation, time inversion occurs. Therefore, this TFD State has a weak coupling leading to a traversable wormhole. "
   ]
  },
  {
   "attachments": {},
   "cell_type": "markdown",
   "metadata": {},
   "source": [
    "#### SWAP Gate \n",
    "<!-- - need to define our left and right wormhole  -->\n",
    "As mentioned, we need to have a message to go through a wormhole. In a circuit, this message would be a single qubit. By swapping this message encoded qubit with a qubit inside a left wormhole, our input qubit is ready to traverse through the wormhole. "
   ]
  },
  {
   "attachments": {},
   "cell_type": "markdown",
   "metadata": {},
   "source": [
    "\n",
    "#### Scramble & Unscramble and Perfect Size Winding\n",
    "\n",
    "<!-- ![scrambling](images/Scrambling.jpeg) [Scrambling] -->\n",
    "\n",
    "After a single qubit is inserted into the left wormhole, the qubit will start to entangle with other rest of the qubits in the wormhole, called scrambling. After the information passes through the coupling process, we have to unscramble the information at the end on the right side of the wormhole. \n",
    "Therefore, we try to track how the qubit gets entangled in the scrambling step, so we use quantum mutual information as a tracker. \n"
   ]
  },
  {
   "attachments": {},
   "cell_type": "markdown",
   "metadata": {},
   "source": [
    "\n",
    "#### Coupling \n",
    "Coupling is our interaction term which allows us to connect the left wormhole with our right wormhole, as shown in our circuit diagram. Here, we can transfer the qubit from left to right. Referring to our first image (a), time coupling, a green dashed line around, occurs from left to right from outside. This time coupling creates a negative energy shockwave, propagating towards the singularity. If the inserted message falls into the singularity, this means that we are going to lose the message. Therefore, the role of the negative shockwave is significant here. It will prevent information loss by falling into the singularity and deliver the message safely to the right's event horizon.\n"
   ]
  },
  {
   "cell_type": "markdown",
   "metadata": {},
   "source": []
  }
 ],
 "metadata": {
  "kernelspec": {
   "display_name": "pennylane_env",
   "language": "python",
   "name": "python3"
  },
  "language_info": {
   "codemirror_mode": {
    "name": "ipython",
    "version": 3
   },
   "file_extension": ".py",
   "mimetype": "text/x-python",
   "name": "python",
   "nbconvert_exporter": "python",
   "pygments_lexer": "ipython3",
   "version": "3.10.9"
  },
  "orig_nbformat": 4,
  "vscode": {
   "interpreter": {
    "hash": "b6c5cd233c22fa4d21ef34417be8be6d0ed004e0ccd236c0f9b4c71f4cb1c3c7"
   }
  }
 },
 "nbformat": 4,
 "nbformat_minor": 2
}
