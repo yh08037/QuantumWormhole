{
 "cells": [
  {
   "attachments": {},
   "cell_type": "markdown",
   "metadata": {},
   "source": [
    "### SYK Hamiltonian\n",
    "\n",
    "Sachdev–Ye–Kitaev (SYK) model, or SYK Hamiltonian is a system that is holographically dual to gravity. Successful teleportation is described from the dual gravity perspective as a particle traveling through a traversable wormhole. It is a sum of $q$ way interactions between Majorana fermions $\\psi^j$, and the coefficients $J_j$ follows Gaussian distribution. \n",
    "\n",
    "![syk](images/fig_syk_hamiltonian.png)\n",
    "\n",
    "However, experimentally implementing a full SYK model is extremely challenging. Therefore, the authors applied the machine learning approach to reduce the size of SYK Hamiltonian while preserving the gravitational physics. As a result, authors obtained a sparsified SYK Hamiltonian which has only five terms. The authors claim that the learned Hamiltonian reproduces gravitational dynamics of the SYK model."
   ]
  },
  {
   "attachments": {},
   "cell_type": "markdown",
   "metadata": {},
   "source": [
    "### Majorana Fermions\n",
    "\n",
    "In the previous section, authors reduced the $N=10$ dense SYK model to $N=7$ sparsified SYK model. To encode 7 Majorana fermions for the left black hole and 7 Majorana fermions for the right black hole, we require 7 qubits (two fermions per qubit). The authors decided to use standard Jordan-Wigner transformation to encode the Majorana fermions in the Hamiltonian. To make the decomposition of Majorana swap gates efficient, $\\psi_L^1=ZX$, $\\psi_L^2=ZY$, $\\psi_R^1=X$, $\\psi_R^2=Y$ are particularly chosen. The remaining transformations are chosen to satisfy $\\psi_R^i\\psi_L^j=\\frac{i}{2}Z$ for shallow Trotterization of the coupling term $e^{i\\mu V}$.\n",
    "\n",
    "![majorana](images/fig_majorana.png)\n"
   ]
  },
  {
   "attachments": {},
   "cell_type": "markdown",
   "metadata": {},
   "source": [
    "### Dirac Fermions & SWAP gate\n",
    "\n",
    "To swap a qubit into or out of the wormhole, authors paired up Majorana fermions on a single qubit into a Dirac fermion \n",
    "$$\\chi_{L, R}=\\frac{1}{\\sqrt{2}}\\left( \\psi_{L, R}^1 + i \\psi_{L, R}^2 \\right) \\\\ \\Rightarrow \\chi_L=\\frac{1}{2}(ZX+iZY), \\ \\chi_R=\\frac{1}{2}(X+iY).$$\n",
    "The swap gate is then given by\n",
    "$$ \\mathrm{SWAP} = \\begin{bmatrix} \n",
    "\\chi\\chi^\\dagger & \\chi  \\\\ \n",
    "\\chi & \\chi^\\dagger\\chi\n",
    "\\end{bmatrix} $$\n",
    "thus,\n",
    "$$ \\mathrm{SWAP}_{X+iY} = \\begin{bmatrix} \n",
    "1 & 0 & 0 & 0 \\\\ \n",
    "0 & 0 & 1 & 0 \\\\ \n",
    "0 & 1 & 0 & 0 \\\\ \n",
    "0 & 0 & 0 & 1 \n",
    "\\end{bmatrix}, \\quad \\mathrm{SWAP}_{ZX+iZY} = \\begin{bmatrix}\n",
    "1 & 0 & 0 & 0 & 0 & 0 & 0 & 0 \\\\\n",
    "0 & 0 & 1 & 0 & 0 & 0 & 0 & 0 \\\\\n",
    "0 & 1 & 0 & 0 & 0 & 0 & 0 & 0 \\\\\n",
    "0 & 0 & 0 & 1 & 0 & 0 & 0 & 0 \\\\\n",
    "0 & 0 & 0 & 0 & 1 & 0 & 0 & 0 \\\\\n",
    "0 & 0 & 0 & 0 & 0 & 0 & -1 & 0 \\\\\n",
    "0 & 0 & 0 & 0 & 0 & -1 & 0 & 0 \\\\\n",
    "0 & 0 & 0 & 0 & 0 & 0 & 0 & 1 \\\\\n",
    "\\end{bmatrix}. $$ \n",
    "Since the $\\mathrm{SWAP}_{X+iY}$ coincides with the standard swap gate, the final swap in the protocol from R to T (Fig. 1c of the paper) is replaced by direct measurement of the rightmost qubit of R to reduce gate count."
   ]
  },
  {
   "attachments": {},
   "cell_type": "markdown",
   "metadata": {},
   "source": [
    "### Actual Codes"
   ]
  },
  {
   "cell_type": "code",
   "execution_count": 9,
   "metadata": {},
   "outputs": [],
   "source": [
    "import pennylane as qml\n",
    "\n",
    "worm_wires = list(range(7))\n",
    "msg_wires = [7, 8]\n",
    "\n",
    "wires = msg_wires + worm_wires\n",
    "dev = qml.device('default.qubit', wires=len(wires), shots=None)"
   ]
  },
  {
   "cell_type": "code",
   "execution_count": 10,
   "metadata": {},
   "outputs": [],
   "source": [
    "# Jordan-Wigner Transformation for Majorana Fermions\n",
    "psi_map = {\n",
    "    'L1': 'ZXIIIII',\n",
    "    'L2': 'ZYIIIII',\n",
    "    'L3': 'ZZZZZXI',\n",
    "    'L4': 'ZZXIIII',\n",
    "    'L5': 'ZZZZXII',\n",
    "    'L6': 'ZZZXIII',\n",
    "    'L7': 'ZZZZZZX',\n",
    "    'R1': 'XIIIIII',\n",
    "    'R2': 'YIIIIII',\n",
    "    'R3': 'ZZZZZYI',\n",
    "    'R4': 'ZZYIIII',\n",
    "    'R5': 'ZZZZYII',\n",
    "    'R6': 'ZZZYIII',\n",
    "    'R7': 'ZZZZZZY'    \n",
    "}\n",
    "\n",
    "# q=4 Majorana basis for left system\n",
    "basis_L = [\n",
    "    ('L1', 'L2', 'L4', 'L5'), \n",
    "    ('L1', 'L3', 'L4', 'L7'), \n",
    "    ('L1', 'L3', 'L5', 'L6'), \n",
    "    ('L2', 'L3', 'L4', 'L6'), \n",
    "    ('L2', 'L3', 'L5', 'L7')\n",
    "]\n",
    "\n",
    "# q=4 Majorana basis for right system\n",
    "basis_R = [\n",
    "    ('R1', 'R2', 'R4', 'R5'), \n",
    "    ('R1', 'R3', 'R4', 'R7'), \n",
    "    ('R1', 'R3', 'R5', 'R6'), \n",
    "    ('R2', 'R3', 'R4', 'R6'), \n",
    "    ('R2', 'R3', 'R5', 'R7'),\n",
    "]\n",
    "\n",
    "# Majorana basis for coupling term\n",
    "basis_V = [\n",
    "    ('L1', 'R1'),\n",
    "    ('L2', 'R2'),\n",
    "    ('L3', 'R3'),\n",
    "    ('L4', 'R4'),\n",
    "    ('L5', 'R5'),\n",
    "    ('L6', 'R6'),\n",
    "    ('L7', 'R7'),\n",
    "]\n",
    "\n",
    "# Coefficient of sparsified SYK Hamiltonian\n",
    "coeff = [-0.36, 0.19, -0.71, 0.22, 0.49]"
   ]
  },
  {
   "cell_type": "code",
   "execution_count": 11,
   "metadata": {},
   "outputs": [],
   "source": [
    "def pauli_word(word):\n",
    "    pw = qml.pauli.PauliWord({i: p for i, p in zip(worm_wires, word)})\n",
    "    return pw\n",
    "\n",
    "def mult_pauli_words(word_list, ignore_phase=False):\n",
    "    assert len(word_list) > 1\n",
    "    word, phase = pauli_word(word_list[0]), 1\n",
    "    for w in word_list[1:]:\n",
    "        word, new_phase = word * pauli_word(w)\n",
    "        if not ignore_phase:\n",
    "            phase = phase * new_phase\n",
    "    return word, phase\n",
    "\n",
    "def majorana_basis(psi, terms):\n",
    "    word_list_list = [[psi[key] for key in term] for term in terms]\n",
    "    basis_list = [mult_pauli_words(word_list) for word_list in word_list_list]\n",
    "    return basis_list\n",
    "\n",
    "def pauli_sentence(words, coeff, premult_i=False, mult=1.):\n",
    "    ps = qml.pauli.PauliSentence({\n",
    "        word: (1j*p if premult_i else p).real * c * mult\n",
    "        for (word, p), c in zip(words, coeff)\n",
    "    })\n",
    "    return ps"
   ]
  },
  {
   "cell_type": "code",
   "execution_count": 12,
   "metadata": {},
   "outputs": [],
   "source": [
    "m_L = majorana_basis(psi_map, basis_L)\n",
    "ps_L = pauli_sentence(m_L, coeff, mult=0.25)\n",
    "\n",
    "m_R = majorana_basis(psi_map, basis_R)\n",
    "ps_R = pauli_sentence(m_R, coeff, mult=0.25)\n",
    "\n",
    "m_V = majorana_basis(psi_map, basis_V)\n",
    "ps_iV = pauli_sentence(m_V, [1/28]*7, premult_i=True, mult=0.5)\n",
    "\n",
    "H_L = ps_L.hamiltonian(wire_order=worm_wires)\n",
    "H_R = ps_R.hamiltonian(wire_order=worm_wires)\n",
    "i_H_V = ps_iV.hamiltonian(wire_order=worm_wires)"
   ]
  },
  {
   "cell_type": "code",
   "execution_count": null,
   "metadata": {},
   "outputs": [],
   "source": []
  }
 ],
 "metadata": {
  "kernelspec": {
   "display_name": "qhack",
   "language": "python",
   "name": "python3"
  },
  "language_info": {
   "codemirror_mode": {
    "name": "ipython",
    "version": 3
   },
   "file_extension": ".py",
   "mimetype": "text/x-python",
   "name": "python",
   "nbconvert_exporter": "python",
   "pygments_lexer": "ipython3",
   "version": "3.10.9"
  },
  "orig_nbformat": 4,
  "vscode": {
   "interpreter": {
    "hash": "b70ace862cfd5f7cc859a082840142497d315a46df026f412c373394051628f4"
   }
  }
 },
 "nbformat": 4,
 "nbformat_minor": 2
}
